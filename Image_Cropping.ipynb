{
 "cells": [
  {
   "cell_type": "code",
   "execution_count": 1,
   "id": "e118c34c",
   "metadata": {},
   "outputs": [
    {
     "name": "stdout",
     "output_type": "stream",
     "text": [
      "Using matplotlib backend: <object object at 0x00000203FFF567D0>\n"
     ]
    }
   ],
   "source": [
    "import cv2\n",
    "import numpy as np\n",
    "import matplotlib.pyplot as plt\n",
    "%matplotlib\n",
    "cropping = False\n",
    "x_start, y_start, x_end, y_end = 0, 0, 0, 0\n",
    "image = cv2.imread('Images/Task_1.jpg')\n",
    "oriImage = image.copy()\n",
    "def mouse_crop(event, x, y, flags, param):\n",
    "    # grab references to the global variables\n",
    "    global x_start, y_start, x_end, y_end, cropping\n",
    "    # if the left mouse button was DOWN, start RECORDING\n",
    "    # (x, y) coordinates and indicate that cropping is being\n",
    "    if event == cv2.EVENT_LBUTTONDOWN:\n",
    "        x_start, y_start, x_end, y_end = x, y, x, y\n",
    "        cropping = True\n",
    "    # Mouse is Moving\n",
    "    elif event == cv2.EVENT_MOUSEMOVE:\n",
    "        if cropping == True:\n",
    "            x_end, y_end = x, y\n",
    "    # if the left mouse button was released\n",
    "    elif event == cv2.EVENT_LBUTTONUP:\n",
    "        # record the ending (x, y) coordinates\n",
    "        x_end, y_end = x, y\n",
    "        cropping = False # cropping is finished\n",
    "        refPoint = [(x_start, y_start), (x_end, y_end)]\n",
    "        if len(refPoint) == 2: #when two points were found\n",
    "            roi = oriImage[refPoint[0][1]:refPoint[1][1], refPoint[0][0]:refPoint[1][0]]\n",
    "            cv2.imshow(\"Cropped\", roi)\n",
    "#             cv2.imwrite('Task_1_cropped.jpg', roi)\n",
    "cv2.namedWindow(\"image\", 2)\n",
    "cv2.setMouseCallback(\"image\", mouse_crop)\n",
    "while True:\n",
    "    i = image.copy()\n",
    "    if not cropping:\n",
    "        cv2.imshow(\"image\", image)\n",
    "    elif cropping:\n",
    "        i = cv2.rectangle(i,(x_start, y_start), (x_end, y_end), (255, 0, 0), 2)\n",
    "        xs = str(x_start)\n",
    "        xe = str(x_end)\n",
    "        ys = str(y_start)\n",
    "        ye = str(y_end)\n",
    "        x = (f\"({xs}, {ys})\")\n",
    "        y = (f\"({xe}, {ye})\")\n",
    "        i = cv2.putText(i, x, (x_start, y_start), cv2.FONT_HERSHEY_SIMPLEX, 1, (255, 0, 0), 2, cv2.LINE_AA)\n",
    "        i = cv2.putText(i, y, (x_end, y_end), cv2.FONT_HERSHEY_SIMPLEX, 1, (255, 0, 0), 2, cv2.LINE_AA)\n",
    "        \n",
    "        cv2.imshow(\"image\", i)\n",
    "        cv2.imwrite('Task_1_insights1.jpg', i)\n",
    "        \n",
    "    if cv2.waitKey(2) & 0xff == ord('q'):\n",
    "        break\n",
    "# close all open windows\n",
    "cv2.destroyAllWindows()"
   ]
  },
  {
   "cell_type": "code",
   "execution_count": null,
   "id": "d5ee644b",
   "metadata": {},
   "outputs": [],
   "source": []
  },
  {
   "cell_type": "code",
   "execution_count": null,
   "id": "0b7a8898",
   "metadata": {},
   "outputs": [],
   "source": []
  }
 ],
 "metadata": {
  "kernelspec": {
   "display_name": "Python 3 (ipykernel)",
   "language": "python",
   "name": "python3"
  },
  "language_info": {
   "codemirror_mode": {
    "name": "ipython",
    "version": 3
   },
   "file_extension": ".py",
   "mimetype": "text/x-python",
   "name": "python",
   "nbconvert_exporter": "python",
   "pygments_lexer": "ipython3",
   "version": "3.9.6"
  }
 },
 "nbformat": 4,
 "nbformat_minor": 5
}
