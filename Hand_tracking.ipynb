{
 "cells": [
  {
   "cell_type": "code",
   "execution_count": 10,
   "id": "386317b1",
   "metadata": {},
   "outputs": [],
   "source": [
    "import cv2 as cv\n",
    "import time\n",
    "import mediapipe as mp"
   ]
  },
  {
   "cell_type": "code",
   "execution_count": 11,
   "id": "25f5862b",
   "metadata": {},
   "outputs": [],
   "source": [
    "mp_holistic = mp.solutions.holistic\n",
    "holistic_model = mp_holistic.Holistic(\n",
    "    min_detection_confidence=0.5,\n",
    "    min_tracking_confidence=0.5\n",
    ")"
   ]
  },
  {
   "cell_type": "code",
   "execution_count": 12,
   "id": "21ce65e5",
   "metadata": {},
   "outputs": [],
   "source": [
    "mp_drawing = mp.solutions.drawing_utils"
   ]
  },
  {
   "cell_type": "code",
   "execution_count": 13,
   "id": "5d6290c5",
   "metadata": {},
   "outputs": [],
   "source": [
    "# (0) in VideoCapture is used to connect to your computer's default camera\n",
    "capture = cv.VideoCapture(0)\n",
    "\n",
    "# Initializing current time and precious time for calculating the FPS\n",
    "previousTime = 0\n",
    "currentTime = 0\n",
    "fingercoordinates = [(8, 6), (12, 10), (16, 14), (20, 18)]\n",
    "tumpcoordinates = (4, 2)\n",
    "\n",
    "while capture.isOpened():\n",
    "    # capture frame by frame\n",
    "    ret, frame = capture.read()\n",
    "\n",
    "    # resizing the frame for better view\n",
    "    frame = cv.resize(frame, (800, 600))\n",
    "\n",
    "    # Converting the from from BGR to RGB\n",
    "    image = cv.cvtColor(frame, cv.COLOR_BGR2RGB)\n",
    "\n",
    "    # Making predictions using holistic model\n",
    "    # To improve performance, optionally mark the image as not writable to\n",
    "    # pass by reference.\n",
    "    results = holistic_model.process(image)\n",
    "    # Converting back the RGB image to BGR\n",
    "    image = cv.cvtColor(image, cv.COLOR_RGB2BGR)\n",
    "    \n",
    "    mul = results.right_hand_landmarks\n",
    "    if mul:\n",
    "        handpoints = []\n",
    "        for idx, lm in enumerate(mul.landmark):\n",
    "            h, w, c = image.shape\n",
    "            cx, cy = int(lm.x * w), int(lm.y * h)\n",
    "            handpoints.append((cx, cy))\n",
    "            \n",
    "        for point in handpoints:\n",
    "            cv.circle(image, point, 10, (0, 0, 255), cv.FILLED)\n",
    "            \n",
    "        for coordinates in fingercoordinates:\n",
    "            if handpoints[coordinates[0]][1] < handpoints[coordinates[1]][1]:\n",
    "                if coordinates[0] == 8:\n",
    "                    cv.putText(image, 'I', (10, 120), cv.FONT_HERSHEY_COMPLEX, 1, (0,255,0), 2)\n",
    "                \n",
    "                if coordinates[0] == 12:\n",
    "                    cv.putText(image, 'M', (10, 170), cv.FONT_HERSHEY_COMPLEX, 1, (0,255,0), 2)\n",
    "                    \n",
    "                if coordinates[0] == 16:\n",
    "                    cv.putText(image, 'R', (10, 220), cv.FONT_HERSHEY_COMPLEX, 1, (0,255,0), 2)\n",
    "                \n",
    "                if coordinates[0] == 20:\n",
    "                    cv.putText(image, 'B', (10, 270), cv.FONT_HERSHEY_COMPLEX, 1, (0,255,0), 2)\n",
    "                    \n",
    "            if handpoints[tumpcoordinates[0]][0] > handpoints[tumpcoordinates[1]][0]:\n",
    "                    cv.putText(image, 'T', (10, 320), cv.FONT_HERSHEY_COMPLEX, 1, (0,255,0), 2)\n",
    "        \n",
    "    # Drawing Right hand Land Marks\n",
    "    mp_drawing.draw_landmarks(\n",
    "    image,\n",
    "    results.right_hand_landmarks,\n",
    "    mp_holistic.HAND_CONNECTIONS,\n",
    "    )\n",
    "\n",
    "    # Drawing Left hand Land Marks\n",
    "    mp_drawing.draw_landmarks(\n",
    "    image,\n",
    "    results.left_hand_landmarks,\n",
    "    mp_holistic.HAND_CONNECTIONS\n",
    "    )\n",
    "    \n",
    "    # Calculating the FPS\n",
    "    currentTime = time.time()\n",
    "    fps = 1 / (currentTime-previousTime)\n",
    "    previousTime = currentTime\n",
    "    \n",
    "    # Displaying FPS on the image\n",
    "    cv.putText(image, str(int(fps))+\" FPS\", (10, 70), cv.FONT_HERSHEY_COMPLEX, 1, (0,255,0), 2)\n",
    "    # Display the resulting image\n",
    "    cv.imshow(\"Facial and Hand Landmarks\", image)\n",
    "\n",
    "    # Enter key 'q' to break the loop\n",
    "    if cv.waitKey(5) & 0xFF == ord('q'):\n",
    "        break\n",
    "\n",
    "# When all the process is done\n",
    "# Release the capture and destroy all windows\n",
    "capture.release()\n",
    "cv.destroyAllWindows()\n"
   ]
  },
  {
   "cell_type": "code",
   "execution_count": 14,
   "id": "0d4cadc8",
   "metadata": {},
   "outputs": [
    {
     "name": "stdout",
     "output_type": "stream",
     "text": [
      "HandLandmark.WRIST 0\n",
      "HandLandmark.THUMB_CMC 1\n",
      "HandLandmark.THUMB_MCP 2\n",
      "HandLandmark.THUMB_IP 3\n",
      "HandLandmark.THUMB_TIP 4\n",
      "HandLandmark.INDEX_FINGER_MCP 5\n",
      "HandLandmark.INDEX_FINGER_PIP 6\n",
      "HandLandmark.INDEX_FINGER_DIP 7\n",
      "HandLandmark.INDEX_FINGER_TIP 8\n",
      "HandLandmark.MIDDLE_FINGER_MCP 9\n",
      "HandLandmark.MIDDLE_FINGER_PIP 10\n",
      "HandLandmark.MIDDLE_FINGER_DIP 11\n",
      "HandLandmark.MIDDLE_FINGER_TIP 12\n",
      "HandLandmark.RING_FINGER_MCP 13\n",
      "HandLandmark.RING_FINGER_PIP 14\n",
      "HandLandmark.RING_FINGER_DIP 15\n",
      "HandLandmark.RING_FINGER_TIP 16\n",
      "HandLandmark.PINKY_MCP 17\n",
      "HandLandmark.PINKY_PIP 18\n",
      "HandLandmark.PINKY_DIP 19\n",
      "HandLandmark.PINKY_TIP 20\n",
      "0\n"
     ]
    }
   ],
   "source": [
    "for landmark in mp_holistic.HandLandmark:\n",
    "    print(landmark, landmark.value)\n",
    " \n",
    "print(mp_holistic.HandLandmark.WRIST.value)"
   ]
  },
  {
   "cell_type": "code",
   "execution_count": null,
   "id": "2a925cce",
   "metadata": {},
   "outputs": [],
   "source": []
  }
 ],
 "metadata": {
  "kernelspec": {
   "display_name": "Python 3.9.6 64-bit",
   "language": "python",
   "name": "python3"
  },
  "language_info": {
   "codemirror_mode": {
    "name": "ipython",
    "version": 3
   },
   "file_extension": ".py",
   "mimetype": "text/x-python",
   "name": "python",
   "nbconvert_exporter": "python",
   "pygments_lexer": "ipython3",
   "version": "3.9.6"
  },
  "vscode": {
   "interpreter": {
    "hash": "f6246b25e200e4c5124e3e61789ac81350562f0761bbcf92ad9e48654207659c"
   }
  }
 },
 "nbformat": 4,
 "nbformat_minor": 5
}
